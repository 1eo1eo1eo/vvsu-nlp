{
 "cells": [
  {
   "metadata": {
    "ExecuteTime": {
     "end_time": "2025-03-14T23:21:54.013444Z",
     "start_time": "2025-03-14T23:21:53.849966Z"
    }
   },
   "cell_type": "code",
   "source": [
    "from natasha import Doc, Segmenter, MorphVocab, NewsEmbedding, NewsMorphTagger\n",
    "from nltk.corpus import stopwords\n",
    "from nltk.stem.snowball import SnowballStemmer"
   ],
   "id": "aca9219c32acec21",
   "outputs": [],
   "execution_count": 1
  },
  {
   "cell_type": "code",
   "id": "initial_id",
   "metadata": {
    "collapsed": true,
    "ExecuteTime": {
     "end_time": "2025-03-14T23:21:54.028553Z",
     "start_time": "2025-03-14T23:21:54.016987Z"
    }
   },
   "source": [
    "filepath: str = \"your filepath\"\n",
    "\n",
    "with open(filepath, \"r\") as file:\n",
    "    text = file.read().replace(\"\\n\", \" \")\n",
    "\n",
    "\n",
    "def tokenize(text: str) -> list[str]:\n",
    "    return list(text.replace(\" \", \"\"))\n",
    "\n",
    "\n",
    "def vectorize(tokens: list[str]) -> list[int]:\n",
    "    return [ord(token) for token in tokens]\n",
    "\n",
    "\n",
    "# Токенизация\n",
    "tokenized_text = tokenize(text)\n",
    "print(\"Токены:\", tokenized_text[:15])\n",
    "\n",
    "# Векторизация\n",
    "vectorized_text = vectorize(tokenized_text)\n",
    "print(\"Векторы:\", vectorized_text[:15])\n"
   ],
   "outputs": [
    {
     "name": "stdout",
     "output_type": "stream",
     "text": [
      "Токены: ['П', 'р', 'е', 'с', 'т', 'у', 'п', 'л', 'е', 'н', 'и', 'е', 'и', 'н', 'а']\n",
      "Векторы: [1055, 1088, 1077, 1089, 1090, 1091, 1087, 1083, 1077, 1085, 1080, 1077, 1080, 1085, 1072]\n"
     ]
    }
   ],
   "execution_count": 2
  },
  {
   "metadata": {
    "ExecuteTime": {
     "end_time": "2025-03-14T23:21:55.723223Z",
     "start_time": "2025-03-14T23:21:54.096930Z"
    }
   },
   "cell_type": "code",
   "source": [
    "segmenter = Segmenter()\n",
    "morph_vocab = MorphVocab()\n",
    "emb = NewsEmbedding()\n",
    "morph_tagger = NewsMorphTagger(emb)\n",
    "\n",
    "stemmer = SnowballStemmer(\"russian\")\n",
    "\n",
    "stopwords = stopwords.words(\"russian\")\n",
    "\n",
    "\n",
    "# Функция для лемматизации\n",
    "def lemmatize_text(text: str, limit: int) -> list[str]:\n",
    "    doc = Doc(text)\n",
    "\n",
    "    doc.segment(segmenter)\n",
    "\n",
    "    doc.tag_morph(morph_tagger)\n",
    "\n",
    "    for token in doc.tokens[:limit]:\n",
    "        token.lemmatize(morph_vocab)\n",
    "\n",
    "    return [token.lemma for token in doc.tokens[:limit] if token.lemma not in stopwords]\n",
    "\n",
    "\n",
    "def stem_text(lemmatized_text: str) -> list[str]:\n",
    "    return [stemmer.stem(token) for token in lemmatized_text]\n",
    "\n",
    "\n",
    "# Лемматизация\n",
    "lemmatized = lemmatize_text(text=text, limit=15)\n",
    "print(\"Лемматизация:\", lemmatized)\n",
    "\n",
    "stemmed = stem_text(lemmatized)\n",
    "print(\"Стемминг:\", stemmed)\n",
    "\n",
    "print(\"Токены после Лемматизации:\", tokenize(\" \".join(lemmatized))[:15])\n",
    "\n",
    "print(\"Векторы после Лемматизации:\", vectorize(\" \".join(lemmatized))[:15])\n",
    "\n",
    "print(\"Токены после стемминга:\", tokenize(\" \".join(stemmed))[:15])\n",
    "\n",
    "print(\"Векторы после стемминга:\", vectorize(\" \".join(stemmed))[:15])"
   ],
   "id": "2a0194ec623fbabf",
   "outputs": [
    {
     "name": "stdout",
     "output_type": "stream",
     "text": [
      "Лемматизация: ['преступление', 'наказание', 'федор', 'михаилович', 'достоевский', 'смерть', 'спасение', 'родион', 'раскольников', 'это', 'роман']\n",
      "Стемминг: ['преступлен', 'наказан', 'федор', 'михаилович', 'достоевск', 'смерт', 'спасен', 'родион', 'раскольник', 'эт', 'рома']\n",
      "Токены после Лемматизации: ['п', 'р', 'е', 'с', 'т', 'у', 'п', 'л', 'е', 'н', 'и', 'е', 'н', 'а', 'к']\n",
      "Векторы после Лемматизации: [1087, 1088, 1077, 1089, 1090, 1091, 1087, 1083, 1077, 1085, 1080, 1077, 32, 1085, 1072]\n",
      "Токены после стемминга: ['п', 'р', 'е', 'с', 'т', 'у', 'п', 'л', 'е', 'н', 'н', 'а', 'к', 'а', 'з']\n",
      "Векторы после стемминга: [1087, 1088, 1077, 1089, 1090, 1091, 1087, 1083, 1077, 1085, 32, 1085, 1072, 1082, 1072]\n"
     ]
    }
   ],
   "execution_count": 3
  }
 ],
 "metadata": {
  "kernelspec": {
   "display_name": "Python 3",
   "language": "python",
   "name": "python3"
  },
  "language_info": {
   "codemirror_mode": {
    "name": "ipython",
    "version": 2
   },
   "file_extension": ".py",
   "mimetype": "text/x-python",
   "name": "python",
   "nbconvert_exporter": "python",
   "pygments_lexer": "ipython2",
   "version": "2.7.6"
  }
 },
 "nbformat": 4,
 "nbformat_minor": 5
}
