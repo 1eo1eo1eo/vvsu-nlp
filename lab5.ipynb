{
 "nbformat": 4,
 "nbformat_minor": 0,
 "metadata": {
  "colab": {
   "provenance": [],
   "authorship_tag": "ABX9TyNqam26wxmfA6cGkWwXmIZA",
   "include_colab_link": true
  },
  "kernelspec": {
   "name": "python3",
   "display_name": "Python 3 (ipykernel)",
   "language": "python"
  },
  "language_info": {
   "name": "python"
  }
 },
 "cells": [
  {
   "cell_type": "markdown",
   "metadata": {
    "id": "view-in-github",
    "colab_type": "text"
   },
   "source": [
    "<a href=\"https://colab.research.google.com/github/SavageGinny/MLP-Jupiters/blob/main/Lab5.ipynb\" target=\"_parent\"><img src=\"https://colab.research.google.com/assets/colab-badge.svg\" alt=\"Open In Colab\"/></a>"
   ]
  },
  {
   "cell_type": "code",
   "source": [
    "import re\n",
    "import nltk\n",
    "from nltk.corpus import stopwords\n",
    "from nltk.stem import PorterStemmer\n",
    "import pandas as pd\n",
    "from sklearn.feature_extraction.text import TfidfVectorizer\n",
    "from sklearn.cluster import KMeans\n",
    "from sklearn.metrics import adjusted_rand_score\n",
    "from sklearn.model_selection import train_test_split\n",
    "\n",
    "nltk.download('stopwords')\n",
    "stop_words = set(stopwords.words('english'))"
   ],
   "metadata": {
    "colab": {
     "base_uri": "https://localhost:8080/"
    },
    "id": "WfzDdbTg1Yx8",
    "outputId": "9afc6ed6-b74f-4d5a-aa58-f820543de27c",
    "ExecuteTime": {
     "end_time": "2025-05-31T01:52:20.522146Z",
     "start_time": "2025-05-31T01:52:20.519386Z"
    }
   },
   "outputs": [
    {
     "name": "stderr",
     "output_type": "stream",
     "text": [
      "[nltk_data] Downloading package stopwords to\n",
      "[nltk_data]     /Users/levlazutin/nltk_data...\n",
      "[nltk_data]   Package stopwords is already up-to-date!\n"
     ]
    }
   ],
   "execution_count": 4
  },
  {
   "cell_type": "markdown",
   "source": [
    "Загрузка датасета"
   ],
   "metadata": {
    "id": "ndz4Tk6I1n_E"
   }
  },
  {
   "cell_type": "code",
   "source": [
    "df = pd.read_csv(\"text.csv\")\n",
    "print(df.head())\n",
    "print(df['category'].value_counts())"
   ],
   "metadata": {
    "colab": {
     "base_uri": "https://localhost:8080/"
    },
    "id": "ZZn8kAxH1oYC",
    "outputId": "a9d6de88-c8f2-45d4-869c-3cca169cbf6c",
    "ExecuteTime": {
     "end_time": "2025-05-31T01:52:20.592090Z",
     "start_time": "2025-05-31T01:52:20.540353Z"
    }
   },
   "outputs": [
    {
     "name": "stdout",
     "output_type": "stream",
     "text": [
      "        category                                               text\n",
      "0           tech  tv future in the hands of viewers with home th...\n",
      "1       business  worldcom boss  left books alone  former worldc...\n",
      "2          sport  tigers wary of farrell  gamble  leicester say ...\n",
      "3          sport  yeading face newcastle in fa cup premiership s...\n",
      "4  entertainment  ocean s twelve raids box office ocean s twelve...\n",
      "category\n",
      "sport            511\n",
      "business         510\n",
      "politics         417\n",
      "tech             401\n",
      "entertainment    386\n",
      "Name: count, dtype: int64\n"
     ]
    }
   ],
   "execution_count": 5
  },
  {
   "cell_type": "code",
   "source": [
    "df"
   ],
   "metadata": {
    "colab": {
     "base_uri": "https://localhost:8080/",
     "height": 5776
    },
    "id": "yRJae1Zf2jgh",
    "outputId": "89f5f365-4ac4-4223-ccd7-c2690f6e9646",
    "ExecuteTime": {
     "end_time": "2025-05-31T01:52:20.606739Z",
     "start_time": "2025-05-31T01:52:20.597698Z"
    }
   },
   "outputs": [
    {
     "data": {
      "text/plain": [
       "           category                                               text\n",
       "0              tech  tv future in the hands of viewers with home th...\n",
       "1          business  worldcom boss  left books alone  former worldc...\n",
       "2             sport  tigers wary of farrell  gamble  leicester say ...\n",
       "3             sport  yeading face newcastle in fa cup premiership s...\n",
       "4     entertainment  ocean s twelve raids box office ocean s twelve...\n",
       "...             ...                                                ...\n",
       "2220       business  cars pull down us retail figures us retail sal...\n",
       "2221       politics  kilroy unveils immigration policy ex-chatshow ...\n",
       "2222  entertainment  rem announce new glasgow concert us band rem h...\n",
       "2223       politics  how political squabbles snowball it s become c...\n",
       "2224          sport  souness delight at euro progress boss graeme s...\n",
       "\n",
       "[2225 rows x 2 columns]"
      ],
      "text/html": [
       "<div>\n",
       "<style scoped>\n",
       "    .dataframe tbody tr th:only-of-type {\n",
       "        vertical-align: middle;\n",
       "    }\n",
       "\n",
       "    .dataframe tbody tr th {\n",
       "        vertical-align: top;\n",
       "    }\n",
       "\n",
       "    .dataframe thead th {\n",
       "        text-align: right;\n",
       "    }\n",
       "</style>\n",
       "<table border=\"1\" class=\"dataframe\">\n",
       "  <thead>\n",
       "    <tr style=\"text-align: right;\">\n",
       "      <th></th>\n",
       "      <th>category</th>\n",
       "      <th>text</th>\n",
       "    </tr>\n",
       "  </thead>\n",
       "  <tbody>\n",
       "    <tr>\n",
       "      <th>0</th>\n",
       "      <td>tech</td>\n",
       "      <td>tv future in the hands of viewers with home th...</td>\n",
       "    </tr>\n",
       "    <tr>\n",
       "      <th>1</th>\n",
       "      <td>business</td>\n",
       "      <td>worldcom boss  left books alone  former worldc...</td>\n",
       "    </tr>\n",
       "    <tr>\n",
       "      <th>2</th>\n",
       "      <td>sport</td>\n",
       "      <td>tigers wary of farrell  gamble  leicester say ...</td>\n",
       "    </tr>\n",
       "    <tr>\n",
       "      <th>3</th>\n",
       "      <td>sport</td>\n",
       "      <td>yeading face newcastle in fa cup premiership s...</td>\n",
       "    </tr>\n",
       "    <tr>\n",
       "      <th>4</th>\n",
       "      <td>entertainment</td>\n",
       "      <td>ocean s twelve raids box office ocean s twelve...</td>\n",
       "    </tr>\n",
       "    <tr>\n",
       "      <th>...</th>\n",
       "      <td>...</td>\n",
       "      <td>...</td>\n",
       "    </tr>\n",
       "    <tr>\n",
       "      <th>2220</th>\n",
       "      <td>business</td>\n",
       "      <td>cars pull down us retail figures us retail sal...</td>\n",
       "    </tr>\n",
       "    <tr>\n",
       "      <th>2221</th>\n",
       "      <td>politics</td>\n",
       "      <td>kilroy unveils immigration policy ex-chatshow ...</td>\n",
       "    </tr>\n",
       "    <tr>\n",
       "      <th>2222</th>\n",
       "      <td>entertainment</td>\n",
       "      <td>rem announce new glasgow concert us band rem h...</td>\n",
       "    </tr>\n",
       "    <tr>\n",
       "      <th>2223</th>\n",
       "      <td>politics</td>\n",
       "      <td>how political squabbles snowball it s become c...</td>\n",
       "    </tr>\n",
       "    <tr>\n",
       "      <th>2224</th>\n",
       "      <td>sport</td>\n",
       "      <td>souness delight at euro progress boss graeme s...</td>\n",
       "    </tr>\n",
       "  </tbody>\n",
       "</table>\n",
       "<p>2225 rows × 2 columns</p>\n",
       "</div>"
      ]
     },
     "execution_count": 6,
     "metadata": {},
     "output_type": "execute_result"
    }
   ],
   "execution_count": 6
  },
  {
   "cell_type": "markdown",
   "source": [
    "Предобработка текстов"
   ],
   "metadata": {
    "id": "eAmNfGXB2Bhq"
   }
  },
  {
   "cell_type": "code",
   "source": [
    "stop_words = set(stopwords.words('english'))\n",
    "stemmer = PorterStemmer()\n",
    "\n",
    "def preprocess(text):\n",
    "    text = text.lower()\n",
    "    text = re.sub(r'[^a-z\\s]', '', text)\n",
    "    tokens = text.split()\n",
    "    tokens = [stemmer.stem(t) for t in tokens if t not in stop_words]\n",
    "    return ' '.join(tokens)\n",
    "\n",
    "df['clean_text'] = df['text'].apply(preprocess)"
   ],
   "metadata": {
    "id": "DywoNyt02CQj",
    "ExecuteTime": {
     "end_time": "2025-05-31T01:52:23.758624Z",
     "start_time": "2025-05-31T01:52:20.681671Z"
    }
   },
   "outputs": [],
   "execution_count": 7
  },
  {
   "cell_type": "code",
   "source": [
    "df"
   ],
   "metadata": {
    "colab": {
     "base_uri": "https://localhost:8080/",
     "height": 423
    },
    "id": "X9hRbxBp2v9R",
    "outputId": "a6434c8b-8abb-42a2-9317-2858bd5b18bd",
    "ExecuteTime": {
     "end_time": "2025-05-31T01:52:23.867892Z",
     "start_time": "2025-05-31T01:52:23.857133Z"
    }
   },
   "outputs": [
    {
     "data": {
      "text/plain": [
       "           category                                               text  \\\n",
       "0              tech  tv future in the hands of viewers with home th...   \n",
       "1          business  worldcom boss  left books alone  former worldc...   \n",
       "2             sport  tigers wary of farrell  gamble  leicester say ...   \n",
       "3             sport  yeading face newcastle in fa cup premiership s...   \n",
       "4     entertainment  ocean s twelve raids box office ocean s twelve...   \n",
       "...             ...                                                ...   \n",
       "2220       business  cars pull down us retail figures us retail sal...   \n",
       "2221       politics  kilroy unveils immigration policy ex-chatshow ...   \n",
       "2222  entertainment  rem announce new glasgow concert us band rem h...   \n",
       "2223       politics  how political squabbles snowball it s become c...   \n",
       "2224          sport  souness delight at euro progress boss graeme s...   \n",
       "\n",
       "                                             clean_text  \n",
       "0     tv futur hand viewer home theatr system plasma...  \n",
       "1     worldcom boss left book alon former worldcom b...  \n",
       "2     tiger wari farrel gambl leicest say rush make ...  \n",
       "3     yead face newcastl fa cup premiership side new...  \n",
       "4     ocean twelv raid box offic ocean twelv crime c...  \n",
       "...                                                 ...  \n",
       "2220  car pull us retail figur us retail sale fell j...  \n",
       "2221  kilroy unveil immigr polici exchatshow host ro...  \n",
       "2222  rem announc new glasgow concert us band rem an...  \n",
       "2223  polit squabbl snowbal becom commonplac argu bl...  \n",
       "2224  souness delight euro progress boss graem soune...  \n",
       "\n",
       "[2225 rows x 3 columns]"
      ],
      "text/html": [
       "<div>\n",
       "<style scoped>\n",
       "    .dataframe tbody tr th:only-of-type {\n",
       "        vertical-align: middle;\n",
       "    }\n",
       "\n",
       "    .dataframe tbody tr th {\n",
       "        vertical-align: top;\n",
       "    }\n",
       "\n",
       "    .dataframe thead th {\n",
       "        text-align: right;\n",
       "    }\n",
       "</style>\n",
       "<table border=\"1\" class=\"dataframe\">\n",
       "  <thead>\n",
       "    <tr style=\"text-align: right;\">\n",
       "      <th></th>\n",
       "      <th>category</th>\n",
       "      <th>text</th>\n",
       "      <th>clean_text</th>\n",
       "    </tr>\n",
       "  </thead>\n",
       "  <tbody>\n",
       "    <tr>\n",
       "      <th>0</th>\n",
       "      <td>tech</td>\n",
       "      <td>tv future in the hands of viewers with home th...</td>\n",
       "      <td>tv futur hand viewer home theatr system plasma...</td>\n",
       "    </tr>\n",
       "    <tr>\n",
       "      <th>1</th>\n",
       "      <td>business</td>\n",
       "      <td>worldcom boss  left books alone  former worldc...</td>\n",
       "      <td>worldcom boss left book alon former worldcom b...</td>\n",
       "    </tr>\n",
       "    <tr>\n",
       "      <th>2</th>\n",
       "      <td>sport</td>\n",
       "      <td>tigers wary of farrell  gamble  leicester say ...</td>\n",
       "      <td>tiger wari farrel gambl leicest say rush make ...</td>\n",
       "    </tr>\n",
       "    <tr>\n",
       "      <th>3</th>\n",
       "      <td>sport</td>\n",
       "      <td>yeading face newcastle in fa cup premiership s...</td>\n",
       "      <td>yead face newcastl fa cup premiership side new...</td>\n",
       "    </tr>\n",
       "    <tr>\n",
       "      <th>4</th>\n",
       "      <td>entertainment</td>\n",
       "      <td>ocean s twelve raids box office ocean s twelve...</td>\n",
       "      <td>ocean twelv raid box offic ocean twelv crime c...</td>\n",
       "    </tr>\n",
       "    <tr>\n",
       "      <th>...</th>\n",
       "      <td>...</td>\n",
       "      <td>...</td>\n",
       "      <td>...</td>\n",
       "    </tr>\n",
       "    <tr>\n",
       "      <th>2220</th>\n",
       "      <td>business</td>\n",
       "      <td>cars pull down us retail figures us retail sal...</td>\n",
       "      <td>car pull us retail figur us retail sale fell j...</td>\n",
       "    </tr>\n",
       "    <tr>\n",
       "      <th>2221</th>\n",
       "      <td>politics</td>\n",
       "      <td>kilroy unveils immigration policy ex-chatshow ...</td>\n",
       "      <td>kilroy unveil immigr polici exchatshow host ro...</td>\n",
       "    </tr>\n",
       "    <tr>\n",
       "      <th>2222</th>\n",
       "      <td>entertainment</td>\n",
       "      <td>rem announce new glasgow concert us band rem h...</td>\n",
       "      <td>rem announc new glasgow concert us band rem an...</td>\n",
       "    </tr>\n",
       "    <tr>\n",
       "      <th>2223</th>\n",
       "      <td>politics</td>\n",
       "      <td>how political squabbles snowball it s become c...</td>\n",
       "      <td>polit squabbl snowbal becom commonplac argu bl...</td>\n",
       "    </tr>\n",
       "    <tr>\n",
       "      <th>2224</th>\n",
       "      <td>sport</td>\n",
       "      <td>souness delight at euro progress boss graeme s...</td>\n",
       "      <td>souness delight euro progress boss graem soune...</td>\n",
       "    </tr>\n",
       "  </tbody>\n",
       "</table>\n",
       "<p>2225 rows × 3 columns</p>\n",
       "</div>"
      ]
     },
     "execution_count": 8,
     "metadata": {},
     "output_type": "execute_result"
    }
   ],
   "execution_count": 8
  },
  {
   "cell_type": "markdown",
   "source": [
    "Векторизация"
   ],
   "metadata": {
    "id": "3HAh2qsG2G0-"
   }
  },
  {
   "cell_type": "code",
   "source": [
    "vectorizer = TfidfVectorizer(max_features=1000)\n",
    "X = vectorizer.fit_transform(df['clean_text'])"
   ],
   "metadata": {
    "id": "UVIvqJ9y2Hf6",
    "ExecuteTime": {
     "end_time": "2025-05-31T01:52:24.116513Z",
     "start_time": "2025-05-31T01:52:23.959257Z"
    }
   },
   "outputs": [],
   "execution_count": 9
  },
  {
   "cell_type": "code",
   "source": [
    "feature_names = vectorizer.get_feature_names_out()\n",
    "df_vectorized = pd.DataFrame(X.toarray(), columns=feature_names)\n",
    "df_vectorized.head()"
   ],
   "metadata": {
    "colab": {
     "base_uri": "https://localhost:8080/",
     "height": 255
    },
    "id": "Okb0gYEG2zfL",
    "outputId": "f650f485-01fa-4a7c-bf4b-1ac093cd38ad",
    "ExecuteTime": {
     "end_time": "2025-05-31T01:52:24.140847Z",
     "start_time": "2025-05-31T01:52:24.131507Z"
    }
   },
   "outputs": [
    {
     "data": {
      "text/plain": [
       "       abil  abl  accept  access    accord   account     accus  achiev  \\\n",
       "0  0.000000  0.0     0.0     0.0  0.029830  0.000000  0.000000     0.0   \n",
       "1  0.078688  0.0     0.0     0.0  0.000000  0.334367  0.069332     0.0   \n",
       "2  0.000000  0.0     0.0     0.0  0.000000  0.000000  0.000000     0.0   \n",
       "3  0.000000  0.0     0.0     0.0  0.000000  0.000000  0.000000     0.0   \n",
       "4  0.000000  0.0     0.0     0.0  0.079211  0.000000  0.000000     0.0   \n",
       "\n",
       "     across  act  ...  worth    would  write  wrong      year  yearold  \\\n",
       "0  0.000000  0.0  ...    0.0  0.00000    0.0    0.0  0.031284      0.0   \n",
       "1  0.000000  0.0  ...    0.0  0.00000    0.0    0.0  0.000000      0.0   \n",
       "2  0.087480  0.0  ...    0.0  0.08496    0.0    0.0  0.000000      0.0   \n",
       "3  0.000000  0.0  ...    0.0  0.00000    0.0    0.0  0.000000      0.0   \n",
       "4  0.094033  0.0  ...    0.0  0.00000    0.0    0.0  0.000000      0.0   \n",
       "\n",
       "        yet      york  young  yuko  \n",
       "0  0.033588  0.000000    0.0   0.0  \n",
       "1  0.000000  0.000000    0.0   0.0  \n",
       "2  0.000000  0.000000    0.0   0.0  \n",
       "3  0.000000  0.000000    0.0   0.0  \n",
       "4  0.000000  0.106087    0.0   0.0  \n",
       "\n",
       "[5 rows x 1000 columns]"
      ],
      "text/html": [
       "<div>\n",
       "<style scoped>\n",
       "    .dataframe tbody tr th:only-of-type {\n",
       "        vertical-align: middle;\n",
       "    }\n",
       "\n",
       "    .dataframe tbody tr th {\n",
       "        vertical-align: top;\n",
       "    }\n",
       "\n",
       "    .dataframe thead th {\n",
       "        text-align: right;\n",
       "    }\n",
       "</style>\n",
       "<table border=\"1\" class=\"dataframe\">\n",
       "  <thead>\n",
       "    <tr style=\"text-align: right;\">\n",
       "      <th></th>\n",
       "      <th>abil</th>\n",
       "      <th>abl</th>\n",
       "      <th>accept</th>\n",
       "      <th>access</th>\n",
       "      <th>accord</th>\n",
       "      <th>account</th>\n",
       "      <th>accus</th>\n",
       "      <th>achiev</th>\n",
       "      <th>across</th>\n",
       "      <th>act</th>\n",
       "      <th>...</th>\n",
       "      <th>worth</th>\n",
       "      <th>would</th>\n",
       "      <th>write</th>\n",
       "      <th>wrong</th>\n",
       "      <th>year</th>\n",
       "      <th>yearold</th>\n",
       "      <th>yet</th>\n",
       "      <th>york</th>\n",
       "      <th>young</th>\n",
       "      <th>yuko</th>\n",
       "    </tr>\n",
       "  </thead>\n",
       "  <tbody>\n",
       "    <tr>\n",
       "      <th>0</th>\n",
       "      <td>0.000000</td>\n",
       "      <td>0.0</td>\n",
       "      <td>0.0</td>\n",
       "      <td>0.0</td>\n",
       "      <td>0.029830</td>\n",
       "      <td>0.000000</td>\n",
       "      <td>0.000000</td>\n",
       "      <td>0.0</td>\n",
       "      <td>0.000000</td>\n",
       "      <td>0.0</td>\n",
       "      <td>...</td>\n",
       "      <td>0.0</td>\n",
       "      <td>0.00000</td>\n",
       "      <td>0.0</td>\n",
       "      <td>0.0</td>\n",
       "      <td>0.031284</td>\n",
       "      <td>0.0</td>\n",
       "      <td>0.033588</td>\n",
       "      <td>0.000000</td>\n",
       "      <td>0.0</td>\n",
       "      <td>0.0</td>\n",
       "    </tr>\n",
       "    <tr>\n",
       "      <th>1</th>\n",
       "      <td>0.078688</td>\n",
       "      <td>0.0</td>\n",
       "      <td>0.0</td>\n",
       "      <td>0.0</td>\n",
       "      <td>0.000000</td>\n",
       "      <td>0.334367</td>\n",
       "      <td>0.069332</td>\n",
       "      <td>0.0</td>\n",
       "      <td>0.000000</td>\n",
       "      <td>0.0</td>\n",
       "      <td>...</td>\n",
       "      <td>0.0</td>\n",
       "      <td>0.00000</td>\n",
       "      <td>0.0</td>\n",
       "      <td>0.0</td>\n",
       "      <td>0.000000</td>\n",
       "      <td>0.0</td>\n",
       "      <td>0.000000</td>\n",
       "      <td>0.000000</td>\n",
       "      <td>0.0</td>\n",
       "      <td>0.0</td>\n",
       "    </tr>\n",
       "    <tr>\n",
       "      <th>2</th>\n",
       "      <td>0.000000</td>\n",
       "      <td>0.0</td>\n",
       "      <td>0.0</td>\n",
       "      <td>0.0</td>\n",
       "      <td>0.000000</td>\n",
       "      <td>0.000000</td>\n",
       "      <td>0.000000</td>\n",
       "      <td>0.0</td>\n",
       "      <td>0.087480</td>\n",
       "      <td>0.0</td>\n",
       "      <td>...</td>\n",
       "      <td>0.0</td>\n",
       "      <td>0.08496</td>\n",
       "      <td>0.0</td>\n",
       "      <td>0.0</td>\n",
       "      <td>0.000000</td>\n",
       "      <td>0.0</td>\n",
       "      <td>0.000000</td>\n",
       "      <td>0.000000</td>\n",
       "      <td>0.0</td>\n",
       "      <td>0.0</td>\n",
       "    </tr>\n",
       "    <tr>\n",
       "      <th>3</th>\n",
       "      <td>0.000000</td>\n",
       "      <td>0.0</td>\n",
       "      <td>0.0</td>\n",
       "      <td>0.0</td>\n",
       "      <td>0.000000</td>\n",
       "      <td>0.000000</td>\n",
       "      <td>0.000000</td>\n",
       "      <td>0.0</td>\n",
       "      <td>0.000000</td>\n",
       "      <td>0.0</td>\n",
       "      <td>...</td>\n",
       "      <td>0.0</td>\n",
       "      <td>0.00000</td>\n",
       "      <td>0.0</td>\n",
       "      <td>0.0</td>\n",
       "      <td>0.000000</td>\n",
       "      <td>0.0</td>\n",
       "      <td>0.000000</td>\n",
       "      <td>0.000000</td>\n",
       "      <td>0.0</td>\n",
       "      <td>0.0</td>\n",
       "    </tr>\n",
       "    <tr>\n",
       "      <th>4</th>\n",
       "      <td>0.000000</td>\n",
       "      <td>0.0</td>\n",
       "      <td>0.0</td>\n",
       "      <td>0.0</td>\n",
       "      <td>0.079211</td>\n",
       "      <td>0.000000</td>\n",
       "      <td>0.000000</td>\n",
       "      <td>0.0</td>\n",
       "      <td>0.094033</td>\n",
       "      <td>0.0</td>\n",
       "      <td>...</td>\n",
       "      <td>0.0</td>\n",
       "      <td>0.00000</td>\n",
       "      <td>0.0</td>\n",
       "      <td>0.0</td>\n",
       "      <td>0.000000</td>\n",
       "      <td>0.0</td>\n",
       "      <td>0.000000</td>\n",
       "      <td>0.106087</td>\n",
       "      <td>0.0</td>\n",
       "      <td>0.0</td>\n",
       "    </tr>\n",
       "  </tbody>\n",
       "</table>\n",
       "<p>5 rows × 1000 columns</p>\n",
       "</div>"
      ]
     },
     "execution_count": 10,
     "metadata": {},
     "output_type": "execute_result"
    }
   ],
   "execution_count": 10
  },
  {
   "cell_type": "markdown",
   "source": [
    "Кластеризация и сравнение с метками"
   ],
   "metadata": {
    "id": "JGMf8AXp2LpH"
   }
  },
  {
   "cell_type": "code",
   "source": [
    "true_labels = df['category'].astype('category').cat.codes\n",
    "kmeans = KMeans(n_clusters=true_labels.nunique(), random_state=42)\n",
    "clusters = kmeans.fit_predict(X)\n",
    "\n",
    "ari = adjusted_rand_score(true_labels, clusters)\n",
    "f\"Adjusted Rand Index: {ari:.4f}\""
   ],
   "metadata": {
    "colab": {
     "base_uri": "https://localhost:8080/",
     "height": 36
    },
    "id": "ccxhoe3W2MME",
    "outputId": "4fb6bdc2-a626-48a5-8b76-abc041c54315",
    "ExecuteTime": {
     "end_time": "2025-05-31T01:52:24.286903Z",
     "start_time": "2025-05-31T01:52:24.217637Z"
    }
   },
   "outputs": [
    {
     "data": {
      "text/plain": [
       "'Adjusted Rand Index: 0.8517'"
      ]
     },
     "execution_count": 11,
     "metadata": {},
     "output_type": "execute_result"
    }
   ],
   "execution_count": 11
  },
  {
   "cell_type": "markdown",
   "source": [
    "Разделение на выборки"
   ],
   "metadata": {
    "id": "CFdsDJ2a2Xmf"
   }
  },
  {
   "cell_type": "code",
   "source": [
    "X_train_val, X_test, y_train_val, y_test = train_test_split(\n",
    "    X, true_labels, test_size=0.2, random_state=42, stratify=true_labels\n",
    ")\n",
    "\n",
    "X_train, X_val, y_train, y_val = train_test_split(\n",
    "    X_train_val, y_train_val, test_size=0.25, random_state=42, stratify=y_train_val\n",
    ")\n",
    "\n",
    "f\"Train: {X_train.shape[0]}, Val: {X_val.shape[0]}, Test: {X_test.shape[0]}\""
   ],
   "metadata": {
    "colab": {
     "base_uri": "https://localhost:8080/",
     "height": 36
    },
    "id": "oIy94ZTP2YMJ",
    "outputId": "8f6ad985-4819-4f54-d688-b4d33f115eff",
    "ExecuteTime": {
     "end_time": "2025-05-31T01:52:24.388468Z",
     "start_time": "2025-05-31T01:52:24.375828Z"
    }
   },
   "outputs": [
    {
     "data": {
      "text/plain": [
       "'Train: 1335, Val: 445, Test: 445'"
      ]
     },
     "execution_count": 12,
     "metadata": {},
     "output_type": "execute_result"
    }
   ],
   "execution_count": 12
  },
  {
   "cell_type": "code",
   "source": [
    "train_idx = y_train.index\n",
    "val_idx = y_val.index\n",
    "test_idx = y_test.index\n",
    "\n",
    "df_train = df.loc[train_idx][['category', 'text', 'clean_text']].reset_index(drop=True)\n",
    "df_val = df.loc[val_idx][['category', 'text', 'clean_text']].reset_index(drop=True)\n",
    "df_test = df.loc[test_idx][['category', 'text', 'clean_text']].reset_index(drop=True)\n"
   ],
   "metadata": {
    "id": "YKA5ZYkD4D02",
    "ExecuteTime": {
     "end_time": "2025-05-31T01:52:24.672397Z",
     "start_time": "2025-05-31T01:52:24.667658Z"
    }
   },
   "outputs": [],
   "execution_count": 13
  },
  {
   "cell_type": "code",
   "source": [
    "df_train"
   ],
   "metadata": {
    "colab": {
     "base_uri": "https://localhost:8080/",
     "height": 423
    },
    "id": "1plhp4k_4naw",
    "outputId": "f296058d-62bc-47bb-a0bf-1451e66e51f4",
    "ExecuteTime": {
     "end_time": "2025-05-31T01:52:24.838266Z",
     "start_time": "2025-05-31T01:52:24.830789Z"
    }
   },
   "outputs": [
    {
     "data": {
      "text/plain": [
       "           category                                               text  \\\n",
       "0             sport  ireland call up uncapped campbell ulster scrum...   \n",
       "1              tech  call for action on internet scam phone compani...   \n",
       "2          business  chinese wine tempts italy s illva italy s illv...   \n",
       "3     entertainment  us  to raise tv indecency fines  us politician...   \n",
       "4          business  news corp makes $5.4bn fox offer news corporat...   \n",
       "...             ...                                                ...   \n",
       "1330       business  reliance unit loses anil ambani anil ambani  t...   \n",
       "1331           tech  online games play with politics after bubbling...   \n",
       "1332          sport  sydney return for henin-hardenne olympic champ...   \n",
       "1333       business  yukos bankruptcy  not us matter  russian autho...   \n",
       "1334       politics  taxes must be trusted - kennedy public trust i...   \n",
       "\n",
       "                                             clean_text  \n",
       "0     ireland call uncap campbel ulster scrumhalf ki...  \n",
       "1     call action internet scam phone compani enough...  \n",
       "2     chines wine tempt itali illva itali illva saro...  \n",
       "3     us rais tv indec fine us politician propos tou...  \n",
       "4     news corp make bn fox offer news corpor seek b...  \n",
       "...                                                 ...  \n",
       "1330  relianc unit lose anil ambani anil ambani youn...  \n",
       "1331  onlin game play polit bubbl time onlin game br...  \n",
       "1332  sydney return heninhardenn olymp champion just...  \n",
       "1333  yuko bankruptci us matter russian author abid ...  \n",
       "1334  tax must trust kennedi public trust tax break ...  \n",
       "\n",
       "[1335 rows x 3 columns]"
      ],
      "text/html": [
       "<div>\n",
       "<style scoped>\n",
       "    .dataframe tbody tr th:only-of-type {\n",
       "        vertical-align: middle;\n",
       "    }\n",
       "\n",
       "    .dataframe tbody tr th {\n",
       "        vertical-align: top;\n",
       "    }\n",
       "\n",
       "    .dataframe thead th {\n",
       "        text-align: right;\n",
       "    }\n",
       "</style>\n",
       "<table border=\"1\" class=\"dataframe\">\n",
       "  <thead>\n",
       "    <tr style=\"text-align: right;\">\n",
       "      <th></th>\n",
       "      <th>category</th>\n",
       "      <th>text</th>\n",
       "      <th>clean_text</th>\n",
       "    </tr>\n",
       "  </thead>\n",
       "  <tbody>\n",
       "    <tr>\n",
       "      <th>0</th>\n",
       "      <td>sport</td>\n",
       "      <td>ireland call up uncapped campbell ulster scrum...</td>\n",
       "      <td>ireland call uncap campbel ulster scrumhalf ki...</td>\n",
       "    </tr>\n",
       "    <tr>\n",
       "      <th>1</th>\n",
       "      <td>tech</td>\n",
       "      <td>call for action on internet scam phone compani...</td>\n",
       "      <td>call action internet scam phone compani enough...</td>\n",
       "    </tr>\n",
       "    <tr>\n",
       "      <th>2</th>\n",
       "      <td>business</td>\n",
       "      <td>chinese wine tempts italy s illva italy s illv...</td>\n",
       "      <td>chines wine tempt itali illva itali illva saro...</td>\n",
       "    </tr>\n",
       "    <tr>\n",
       "      <th>3</th>\n",
       "      <td>entertainment</td>\n",
       "      <td>us  to raise tv indecency fines  us politician...</td>\n",
       "      <td>us rais tv indec fine us politician propos tou...</td>\n",
       "    </tr>\n",
       "    <tr>\n",
       "      <th>4</th>\n",
       "      <td>business</td>\n",
       "      <td>news corp makes $5.4bn fox offer news corporat...</td>\n",
       "      <td>news corp make bn fox offer news corpor seek b...</td>\n",
       "    </tr>\n",
       "    <tr>\n",
       "      <th>...</th>\n",
       "      <td>...</td>\n",
       "      <td>...</td>\n",
       "      <td>...</td>\n",
       "    </tr>\n",
       "    <tr>\n",
       "      <th>1330</th>\n",
       "      <td>business</td>\n",
       "      <td>reliance unit loses anil ambani anil ambani  t...</td>\n",
       "      <td>relianc unit lose anil ambani anil ambani youn...</td>\n",
       "    </tr>\n",
       "    <tr>\n",
       "      <th>1331</th>\n",
       "      <td>tech</td>\n",
       "      <td>online games play with politics after bubbling...</td>\n",
       "      <td>onlin game play polit bubbl time onlin game br...</td>\n",
       "    </tr>\n",
       "    <tr>\n",
       "      <th>1332</th>\n",
       "      <td>sport</td>\n",
       "      <td>sydney return for henin-hardenne olympic champ...</td>\n",
       "      <td>sydney return heninhardenn olymp champion just...</td>\n",
       "    </tr>\n",
       "    <tr>\n",
       "      <th>1333</th>\n",
       "      <td>business</td>\n",
       "      <td>yukos bankruptcy  not us matter  russian autho...</td>\n",
       "      <td>yuko bankruptci us matter russian author abid ...</td>\n",
       "    </tr>\n",
       "    <tr>\n",
       "      <th>1334</th>\n",
       "      <td>politics</td>\n",
       "      <td>taxes must be trusted - kennedy public trust i...</td>\n",
       "      <td>tax must trust kennedi public trust tax break ...</td>\n",
       "    </tr>\n",
       "  </tbody>\n",
       "</table>\n",
       "<p>1335 rows × 3 columns</p>\n",
       "</div>"
      ]
     },
     "execution_count": 14,
     "metadata": {},
     "output_type": "execute_result"
    }
   ],
   "execution_count": 14
  },
  {
   "cell_type": "code",
   "source": [
    "df_val"
   ],
   "metadata": {
    "colab": {
     "base_uri": "https://localhost:8080/",
     "height": 423
    },
    "id": "YYdOrIkR4oIX",
    "outputId": "290ee4f1-ba0a-428f-a0b3-f0022fd0ccab",
    "ExecuteTime": {
     "end_time": "2025-05-31T01:52:24.920316Z",
     "start_time": "2025-05-31T01:52:24.916019Z"
    }
   },
   "outputs": [
    {
     "data": {
      "text/plain": [
       "          category                                               text  \\\n",
       "0         business  mixed reaction to man utd offer shares in manc...   \n",
       "1         politics  choose hope over fear - kennedy voters will ha...   \n",
       "2             tech  local net tv takes off in austria an austrian ...   \n",
       "3         politics  labour s  eu propaganda  a  taxpayer subsidise...   \n",
       "4         business  renault boss hails  great year  strong sales o...   \n",
       "..             ...                                                ...   \n",
       "440  entertainment  itunes now selling band aid song ipod owners c...   \n",
       "441          sport  keegan hails comeback king fowler manchester c...   \n",
       "442       politics  anti-terror plan faces first test plans to all...   \n",
       "443       politics  candidate resigns over bnp link a prospective ...   \n",
       "444          sport  houllier praises benitez regime former liverpo...   \n",
       "\n",
       "                                            clean_text  \n",
       "0    mix reaction man utd offer share manchest unit...  \n",
       "1    choos hope fear kennedi voter clear choic poli...  \n",
       "2    local net tv take austria austrian villag test...  \n",
       "3    labour eu propaganda taxpay subsidis propagand...  \n",
       "4    renault boss hail great year strong sale outsi...  \n",
       "..                                                 ...  \n",
       "440  itun sell band aid song ipod owner download ba...  \n",
       "441  keegan hail comeback king fowler manchest citi...  \n",
       "442  antiterror plan face first test plan allow hom...  \n",
       "443  candid resign bnp link prospect candid uk inde...  \n",
       "444  houllier prais benitez regim former liverpool ...  \n",
       "\n",
       "[445 rows x 3 columns]"
      ],
      "text/html": [
       "<div>\n",
       "<style scoped>\n",
       "    .dataframe tbody tr th:only-of-type {\n",
       "        vertical-align: middle;\n",
       "    }\n",
       "\n",
       "    .dataframe tbody tr th {\n",
       "        vertical-align: top;\n",
       "    }\n",
       "\n",
       "    .dataframe thead th {\n",
       "        text-align: right;\n",
       "    }\n",
       "</style>\n",
       "<table border=\"1\" class=\"dataframe\">\n",
       "  <thead>\n",
       "    <tr style=\"text-align: right;\">\n",
       "      <th></th>\n",
       "      <th>category</th>\n",
       "      <th>text</th>\n",
       "      <th>clean_text</th>\n",
       "    </tr>\n",
       "  </thead>\n",
       "  <tbody>\n",
       "    <tr>\n",
       "      <th>0</th>\n",
       "      <td>business</td>\n",
       "      <td>mixed reaction to man utd offer shares in manc...</td>\n",
       "      <td>mix reaction man utd offer share manchest unit...</td>\n",
       "    </tr>\n",
       "    <tr>\n",
       "      <th>1</th>\n",
       "      <td>politics</td>\n",
       "      <td>choose hope over fear - kennedy voters will ha...</td>\n",
       "      <td>choos hope fear kennedi voter clear choic poli...</td>\n",
       "    </tr>\n",
       "    <tr>\n",
       "      <th>2</th>\n",
       "      <td>tech</td>\n",
       "      <td>local net tv takes off in austria an austrian ...</td>\n",
       "      <td>local net tv take austria austrian villag test...</td>\n",
       "    </tr>\n",
       "    <tr>\n",
       "      <th>3</th>\n",
       "      <td>politics</td>\n",
       "      <td>labour s  eu propaganda  a  taxpayer subsidise...</td>\n",
       "      <td>labour eu propaganda taxpay subsidis propagand...</td>\n",
       "    </tr>\n",
       "    <tr>\n",
       "      <th>4</th>\n",
       "      <td>business</td>\n",
       "      <td>renault boss hails  great year  strong sales o...</td>\n",
       "      <td>renault boss hail great year strong sale outsi...</td>\n",
       "    </tr>\n",
       "    <tr>\n",
       "      <th>...</th>\n",
       "      <td>...</td>\n",
       "      <td>...</td>\n",
       "      <td>...</td>\n",
       "    </tr>\n",
       "    <tr>\n",
       "      <th>440</th>\n",
       "      <td>entertainment</td>\n",
       "      <td>itunes now selling band aid song ipod owners c...</td>\n",
       "      <td>itun sell band aid song ipod owner download ba...</td>\n",
       "    </tr>\n",
       "    <tr>\n",
       "      <th>441</th>\n",
       "      <td>sport</td>\n",
       "      <td>keegan hails comeback king fowler manchester c...</td>\n",
       "      <td>keegan hail comeback king fowler manchest citi...</td>\n",
       "    </tr>\n",
       "    <tr>\n",
       "      <th>442</th>\n",
       "      <td>politics</td>\n",
       "      <td>anti-terror plan faces first test plans to all...</td>\n",
       "      <td>antiterror plan face first test plan allow hom...</td>\n",
       "    </tr>\n",
       "    <tr>\n",
       "      <th>443</th>\n",
       "      <td>politics</td>\n",
       "      <td>candidate resigns over bnp link a prospective ...</td>\n",
       "      <td>candid resign bnp link prospect candid uk inde...</td>\n",
       "    </tr>\n",
       "    <tr>\n",
       "      <th>444</th>\n",
       "      <td>sport</td>\n",
       "      <td>houllier praises benitez regime former liverpo...</td>\n",
       "      <td>houllier prais benitez regim former liverpool ...</td>\n",
       "    </tr>\n",
       "  </tbody>\n",
       "</table>\n",
       "<p>445 rows × 3 columns</p>\n",
       "</div>"
      ]
     },
     "execution_count": 15,
     "metadata": {},
     "output_type": "execute_result"
    }
   ],
   "execution_count": 15
  },
  {
   "cell_type": "code",
   "source": [
    "df_test"
   ],
   "metadata": {
    "colab": {
     "base_uri": "https://localhost:8080/",
     "height": 423
    },
    "id": "1TInJzGU4ov6",
    "outputId": "836aa83e-bf4d-4dc4-d062-2ffc26e784bf",
    "ExecuteTime": {
     "end_time": "2025-05-31T01:52:24.965690Z",
     "start_time": "2025-05-31T01:52:24.961369Z"
    }
   },
   "outputs": [
    {
     "data": {
      "text/plain": [
       "          category                                               text  \\\n",
       "0         business  profits jump at china s top bank industrial an...   \n",
       "1         business  china had role in yukos split-up china lent ru...   \n",
       "2    entertainment  shark tale dvd is us best-seller oscar-nominat...   \n",
       "3         business  firms pump billions into pensions employers ha...   \n",
       "4         business  saudi ministry to employ women women will be e...   \n",
       "..             ...                                                ...   \n",
       "440          sport  safin cool on wimbledon newly-crowned australi...   \n",
       "441       politics  csa  could close   says minister ministers wou...   \n",
       "442       politics  david blunkett in quotes david blunkett - who ...   \n",
       "443  entertainment  muslim group attacks tv drama 24 a british mus...   \n",
       "444           tech  yahoo moves into desktop search internet giant...   \n",
       "\n",
       "                                            clean_text  \n",
       "0    profit jump china top bank industri commerci b...  \n",
       "1    china role yuko splitup china lent russia bn b...  \n",
       "2    shark tale dvd us bestsel oscarnomin anim shar...  \n",
       "3    firm pump billion pension employ spent billion...  \n",
       "4    saudi ministri employ women women employ saudi...  \n",
       "..                                                 ...  \n",
       "440  safin cool wimbledon newlycrown australian ope...  \n",
       "441  csa could close say minist minist would rule s...  \n",
       "442  david blunkett quot david blunkett resign home...  \n",
       "443  muslim group attack tv drama british muslim gr...  \n",
       "444  yahoo move desktop search internet giant yahoo...  \n",
       "\n",
       "[445 rows x 3 columns]"
      ],
      "text/html": [
       "<div>\n",
       "<style scoped>\n",
       "    .dataframe tbody tr th:only-of-type {\n",
       "        vertical-align: middle;\n",
       "    }\n",
       "\n",
       "    .dataframe tbody tr th {\n",
       "        vertical-align: top;\n",
       "    }\n",
       "\n",
       "    .dataframe thead th {\n",
       "        text-align: right;\n",
       "    }\n",
       "</style>\n",
       "<table border=\"1\" class=\"dataframe\">\n",
       "  <thead>\n",
       "    <tr style=\"text-align: right;\">\n",
       "      <th></th>\n",
       "      <th>category</th>\n",
       "      <th>text</th>\n",
       "      <th>clean_text</th>\n",
       "    </tr>\n",
       "  </thead>\n",
       "  <tbody>\n",
       "    <tr>\n",
       "      <th>0</th>\n",
       "      <td>business</td>\n",
       "      <td>profits jump at china s top bank industrial an...</td>\n",
       "      <td>profit jump china top bank industri commerci b...</td>\n",
       "    </tr>\n",
       "    <tr>\n",
       "      <th>1</th>\n",
       "      <td>business</td>\n",
       "      <td>china had role in yukos split-up china lent ru...</td>\n",
       "      <td>china role yuko splitup china lent russia bn b...</td>\n",
       "    </tr>\n",
       "    <tr>\n",
       "      <th>2</th>\n",
       "      <td>entertainment</td>\n",
       "      <td>shark tale dvd is us best-seller oscar-nominat...</td>\n",
       "      <td>shark tale dvd us bestsel oscarnomin anim shar...</td>\n",
       "    </tr>\n",
       "    <tr>\n",
       "      <th>3</th>\n",
       "      <td>business</td>\n",
       "      <td>firms pump billions into pensions employers ha...</td>\n",
       "      <td>firm pump billion pension employ spent billion...</td>\n",
       "    </tr>\n",
       "    <tr>\n",
       "      <th>4</th>\n",
       "      <td>business</td>\n",
       "      <td>saudi ministry to employ women women will be e...</td>\n",
       "      <td>saudi ministri employ women women employ saudi...</td>\n",
       "    </tr>\n",
       "    <tr>\n",
       "      <th>...</th>\n",
       "      <td>...</td>\n",
       "      <td>...</td>\n",
       "      <td>...</td>\n",
       "    </tr>\n",
       "    <tr>\n",
       "      <th>440</th>\n",
       "      <td>sport</td>\n",
       "      <td>safin cool on wimbledon newly-crowned australi...</td>\n",
       "      <td>safin cool wimbledon newlycrown australian ope...</td>\n",
       "    </tr>\n",
       "    <tr>\n",
       "      <th>441</th>\n",
       "      <td>politics</td>\n",
       "      <td>csa  could close   says minister ministers wou...</td>\n",
       "      <td>csa could close say minist minist would rule s...</td>\n",
       "    </tr>\n",
       "    <tr>\n",
       "      <th>442</th>\n",
       "      <td>politics</td>\n",
       "      <td>david blunkett in quotes david blunkett - who ...</td>\n",
       "      <td>david blunkett quot david blunkett resign home...</td>\n",
       "    </tr>\n",
       "    <tr>\n",
       "      <th>443</th>\n",
       "      <td>entertainment</td>\n",
       "      <td>muslim group attacks tv drama 24 a british mus...</td>\n",
       "      <td>muslim group attack tv drama british muslim gr...</td>\n",
       "    </tr>\n",
       "    <tr>\n",
       "      <th>444</th>\n",
       "      <td>tech</td>\n",
       "      <td>yahoo moves into desktop search internet giant...</td>\n",
       "      <td>yahoo move desktop search internet giant yahoo...</td>\n",
       "    </tr>\n",
       "  </tbody>\n",
       "</table>\n",
       "<p>445 rows × 3 columns</p>\n",
       "</div>"
      ]
     },
     "execution_count": 16,
     "metadata": {},
     "output_type": "execute_result"
    }
   ],
   "execution_count": 16
  }
 ]
}
